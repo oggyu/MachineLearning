{
  "nbformat": 4,
  "nbformat_minor": 0,
  "metadata": {
    "colab": {
      "name": "LogisticCancerPrediction.ipynb",
      "provenance": [],
      "collapsed_sections": [],
      "toc_visible": true,
      "mount_file_id": "1o5LxJGX49RYlLNt9k34yF7XcqFZKOAn3",
      "authorship_tag": "ABX9TyORnU7Oql/JwdL3CiN+MjPV",
      "include_colab_link": true
    },
    "kernelspec": {
      "name": "python3",
      "display_name": "Python 3"
    }
  },
  "cells": [
    {
      "cell_type": "markdown",
      "metadata": {
        "id": "view-in-github",
        "colab_type": "text"
      },
      "source": [
        "<a href=\"https://colab.research.google.com/github/oggyu/MachineLearning/blob/master/LogisticCancerPrediction.ipynb\" target=\"_parent\"><img src=\"https://colab.research.google.com/assets/colab-badge.svg\" alt=\"Open In Colab\"/></a>"
      ]
    },
    {
      "cell_type": "code",
      "metadata": {
        "id": "8rTRtOkypD3b",
        "colab_type": "code",
        "colab": {
          "base_uri": "https://localhost:8080/",
          "height": 35
        },
        "outputId": "792e5371-da01-45cf-8a09-78766bf067c6"
      },
      "source": [
        "import tensorflow as tf\n",
        "import keras \n",
        "import pandas as pd \n",
        "import numpy as np \n",
        "import matplotlib.pyplot as plt \n",
        "import math \n",
        "\n"
      ],
      "execution_count": null,
      "outputs": [
        {
          "output_type": "stream",
          "text": [
            "Using TensorFlow backend.\n"
          ],
          "name": "stderr"
        }
      ]
    },
    {
      "cell_type": "code",
      "metadata": {
        "id": "-l4KIJvYABCC",
        "colab_type": "code",
        "colab": {
          "base_uri": "https://localhost:8080/",
          "height": 269
        },
        "outputId": "eefef52e-609c-4c4f-e169-2490d7d2dc8a"
      },
      "source": [
        "from sklearn.model_selection import train_test_split\n",
        "data = pd.read_csv('drive/My Drive//dataset/breasCancerDataset.csv')\n",
        "print(data.head)\n",
        "data = data.drop(['Unnamed: 32', 'id'],axis = 1)\n",
        "data.diagnosis = [1 if each == \"M\" else 0 for each in data.diagnosis]\n",
        "\n",
        "y = data.diagnosis.values\n",
        "x_data = data.drop(['diagnosis'],axis = 1)\n",
        "x = (x_data - np.min(x_data)) / (np.max(x_data)-np.min(x_data)).values\n",
        "\n",
        "x_train, x_test, y_train, y_test = train_test_split( x, y, test_size = 0.15, random_state = 42) \n",
        "x_train = x_train.T \n",
        "x_test = x_test.T \n",
        "y_train = y_train.T \n",
        "y_test = y_test.T \n",
        "\n",
        "trainData =  x.iloc[:500,:]\n",
        "testData =  x.iloc[500:,:]\n"
      ],
      "execution_count": null,
      "outputs": [
        {
          "output_type": "stream",
          "text": [
            "<bound method NDFrame.head of            id diagnosis  ...  fractal_dimension_worst  Unnamed: 32\n",
            "0      842302         M  ...                  0.11890          NaN\n",
            "1      842517         M  ...                  0.08902          NaN\n",
            "2    84300903         M  ...                  0.08758          NaN\n",
            "3    84348301         M  ...                  0.17300          NaN\n",
            "4    84358402         M  ...                  0.07678          NaN\n",
            "..        ...       ...  ...                      ...          ...\n",
            "564    926424         M  ...                  0.07115          NaN\n",
            "565    926682         M  ...                  0.06637          NaN\n",
            "566    926954         M  ...                  0.07820          NaN\n",
            "567    927241         M  ...                  0.12400          NaN\n",
            "568     92751         B  ...                  0.07039          NaN\n",
            "\n",
            "[569 rows x 33 columns]>\n"
          ],
          "name": "stdout"
        }
      ]
    },
    {
      "cell_type": "code",
      "metadata": {
        "id": "GHKdrkVN8o2M",
        "colab_type": "code",
        "colab": {
          "base_uri": "https://localhost:8080/",
          "height": 53
        },
        "outputId": "4c4e9762-ca91-4c10-81be-7da32d343383"
      },
      "source": [
        "print(x_train.shape)\n",
        "print(y_train.shape)"
      ],
      "execution_count": null,
      "outputs": [
        {
          "output_type": "stream",
          "text": [
            "(30, 483)\n",
            "(483,)\n"
          ],
          "name": "stdout"
        }
      ]
    },
    {
      "cell_type": "code",
      "metadata": {
        "id": "EOrecl2IkUvk",
        "colab_type": "code",
        "colab": {
          "base_uri": "https://localhost:8080/",
          "height": 53
        },
        "outputId": "00ad92a5-cf46-432e-a06f-05c6826349e8"
      },
      "source": [
        "\n",
        "# dataset for boston housing \n",
        "boston_housing = keras.datasets.boston_housing\n",
        "(train_data, train_labels) ,(test_data, test_labels) = boston_housing.load_data() \n",
        "features = ['CRIM', 'ZN', 'INDUS', 'CHAS', 'NOX', 'RM', 'AGE', 'DIS', 'RAD',\n",
        "                'TAX', 'PTRATIO', 'B', 'LSTAT']\n",
        "df = pd.DataFrame(train_data, columns=features)\n",
        "df.head()\n",
        "# normalize training data \n",
        "nonNormalized = train_data\n",
        "mean = train_data.mean(axis = 0)\n",
        "std = train_data.std(axis = 0)\n",
        "\n",
        "train_data = (train_data - mean) / std"
      ],
      "execution_count": null,
      "outputs": [
        {
          "output_type": "stream",
          "text": [
            "Downloading data from https://s3.amazonaws.com/keras-datasets/boston_housing.npz\n",
            "57344/57026 [==============================] - 0s 3us/step\n"
          ],
          "name": "stdout"
        }
      ]
    },
    {
      "cell_type": "code",
      "metadata": {
        "id": "HnU1Cwe8gBKc",
        "colab_type": "code",
        "colab": {
          "base_uri": "https://localhost:8080/",
          "height": 864
        },
        "outputId": "aa42899c-dcbd-4917-c6d2-70210c138461"
      },
      "source": [
        "def initializeWeightBias(dimension):\n",
        "  #w = np.full((dimension,1), 0.01)\n",
        "  w = np.random.rand(dimension,1)\n",
        "  b = 0.0 \n",
        "  return w,b \n",
        "\n",
        "def sigmoid(x):\n",
        "  return 1/(1+np.exp(-x)) \n",
        "\n",
        "def forward_backward_prop(w,b,x_train,y_train):\n",
        "  # w.T is [1 x n] x_train is [n x M] M is number of sample  n is number of feature\n",
        "  z = np.dot(w.T,x_train) + b       # z is 1 x M    \n",
        "  y_head = sigmoid(z) \n",
        "  loss = -y_train * np.log(y_head) - (1-y_train) * np.log(1-y_head)\n",
        "  cost = (np.sum(loss)) / x_train.shape[1]\n",
        "\n",
        "  weightGrad = np.dot(x_train,(y_head - y_train).T) / x_train.shape[1]\n",
        "  biasGrad = np.sum((y_head - y_train) / x_train.shape[1])\n",
        "  \n",
        "  gradient = {\"weightGrad\": weightGrad, \"biasGrad\": biasGrad}\n",
        "  \n",
        "  return cost, gradient\n",
        "\n",
        "def update(w,b,x_train,y_train,learningR,iter):\n",
        "  cost_list = []\n",
        "  cost_list2 = [] \n",
        "\n",
        "  index = [] \n",
        "\n",
        "  for i in range(iter):\n",
        "    cost,gradients = forward_backward_prop(w,b,x_train,y_train)\n",
        "    cost_list.append(cost)\n",
        "    w = w - learningR * gradients[\"weightGrad\"]\n",
        "    b = b - learningR * gradients[\"biasGrad\"]\n",
        "    \n",
        "    if i % 10 == 0: \n",
        "      cost_list2.append(cost) \n",
        "      index.append(i) \n",
        "      print (\"Cost after iteration % i: % f\" %(i, cost))  \n",
        "\n",
        "  parameters = {\"weight\": w, \"bias\": b}\n",
        "  plt.plot(index, cost_list2) \n",
        "  plt.xticks(index, rotation ='vertical') \n",
        "  plt.xlabel(\"Number of Iterarion\") \n",
        "  plt.ylabel(\"Cost\") \n",
        "  plt.show() \n",
        "  return parameters, gradients, cost_list \n",
        "\n",
        "def predict(w, b, x_test): \n",
        "  # x_test is a input for forward propagation \n",
        "  z = sigmoid(np.dot(w.T, x_test)+b) \n",
        "  Y_prediction = np.zeros((1, x_test.shape[1])) \n",
        "  \n",
        "  # if z is bigger than 0.5, our prediction is sign one (y_head = 1), \n",
        "  # if z is smaller than 0.5, our prediction is sign zero (y_head = 0), \n",
        "  for i in range(z.shape[1]): \n",
        "    if z[0, i]<= 0.5: \n",
        "      Y_prediction[0, i] = 0\n",
        "    else: \n",
        "      Y_prediction[0, i] = 1\n",
        "  return Y_prediction \n",
        "\n",
        "def logistic_regression(x_train, y_train, x_test, y_test,  \n",
        "                        learning_rate,  num_iterations): \n",
        "  \n",
        "    dimension = x_train.shape[0] \n",
        "    w, b = initializeWeightBias(dimension) \n",
        "      \n",
        "    parameters, gradients, cost_list = update( \n",
        "        w, b, x_train, y_train, learning_rate, num_iterations) \n",
        "      \n",
        "    y_prediction_test = predict( \n",
        "        parameters[\"weight\"], parameters[\"bias\"], x_test) \n",
        "    y_prediction_train = predict( \n",
        "        parameters[\"weight\"], parameters[\"bias\"], x_train) \n",
        "  \n",
        "    # train / test Errors \n",
        "    print(\"train accuracy: {} %\".format( \n",
        "        100 - np.mean(np.abs(y_prediction_train - y_train)) * 100)) \n",
        "    print(\"test accuracy: {} %\".format( \n",
        "        100 - np.mean(np.abs(y_prediction_test - y_test)) * 100)) \n",
        "      \n",
        "logistic_regression(x_train, y_train, x_test,  \n",
        "                    y_test, learning_rate = 1, num_iterations = 300)"
      ],
      "execution_count": null,
      "outputs": [
        {
          "output_type": "stream",
          "text": [
            "Cost after iteration  0:  1.980112\n",
            "Cost after iteration  10:  0.412897\n",
            "Cost after iteration  20:  0.353169\n",
            "Cost after iteration  30:  0.314707\n",
            "Cost after iteration  40:  0.287649\n",
            "Cost after iteration  50:  0.267402\n",
            "Cost after iteration  60:  0.251561\n",
            "Cost after iteration  70:  0.238745\n",
            "Cost after iteration  80:  0.228103\n",
            "Cost after iteration  90:  0.219082\n",
            "Cost after iteration  100:  0.211307\n",
            "Cost after iteration  110:  0.204513\n",
            "Cost after iteration  120:  0.198506\n",
            "Cost after iteration  130:  0.193144\n",
            "Cost after iteration  140:  0.188315\n",
            "Cost after iteration  150:  0.183936\n",
            "Cost after iteration  160:  0.179939\n",
            "Cost after iteration  170:  0.176269\n",
            "Cost after iteration  180:  0.172884\n",
            "Cost after iteration  190:  0.169747\n",
            "Cost after iteration  200:  0.166828\n",
            "Cost after iteration  210:  0.164103\n",
            "Cost after iteration  220:  0.161550\n",
            "Cost after iteration  230:  0.159152\n",
            "Cost after iteration  240:  0.156892\n",
            "Cost after iteration  250:  0.154758\n",
            "Cost after iteration  260:  0.152738\n",
            "Cost after iteration  270:  0.150822\n",
            "Cost after iteration  280:  0.149001\n",
            "Cost after iteration  290:  0.147267\n"
          ],
          "name": "stdout"
        },
        {
          "output_type": "display_data",
          "data": {
            "image/png": "[encoded data removed]",
            "text/plain": [
              "<Figure size 432x288 with 1 Axes>"
            ]
          },
          "metadata": {
            "tags": [],
            "needs_background": "light"
          }
        },
        {
          "output_type": "stream",
          "text": [
            "train accuracy: 96.8944099378882 %\n",
            "test accuracy: 96.51162790697674 %\n"
          ],
          "name": "stdout"
        }
      ]
    },
    {
      "cell_type": "code",
      "metadata": {
        "id": "BNQQ9NjZokwN",
        "colab_type": "code",
        "colab": {}
      },
      "source": [
        "#define the logistic loss function \n",
        "def forwardPass(input,weights):\n",
        "  result = np.dot(input,weights)\n",
        "  return result \n",
        "\n",
        "\n",
        "def logisticLoss(input,weights,labels,reg):\n",
        "  labels = np.reshape(labels,(-1,1))\n",
        "  numofSample = input.shape[0]\n",
        "  weightedSum = forwardPass(input,weights)\n",
        "  loss = -1 * np.multiply(labels,np.log10(sigmoid(weightedSum))) - np.multiply((1-labels),np.log10(1-sigmoid(weightedSum))) \n",
        "  loss = np.sum(loss, axis = 0) / numofSample\n",
        "  \n",
        "  # calculate L2 regularization \n",
        "  r = np.sum(np.multiply(weights,weights), axis = 0) * reg / numofSample / 2\n",
        "  loss = r + loss\n",
        "\n",
        "  # gradient for all 13 weights \n",
        "  gradient = np.dot((sigmoid(weightedSum)-labels).T,input) \n",
        "  gradient = (gradient.T - reg*weights) / numofSample  \n",
        "  return loss,gradient  \n",
        "\n",
        "\n",
        "\n",
        "#input is (1 x N)  weights is (N x 1)\n"
      ],
      "execution_count": null,
      "outputs": []
    },
    {
      "cell_type": "code",
      "metadata": {
        "id": "AP7lJ46hQYTw",
        "colab_type": "code",
        "colab": {
          "base_uri": "https://localhost:8080/",
          "height": 53
        },
        "outputId": "372971e1-37a6-4cc5-d640-7948bc6e38fa"
      },
      "source": [
        "input = train_data\n",
        "weights = np.random.rand(train_data.shape[1],1)\n",
        "labels = train_labels\n",
        "reg = 100 ;\n",
        "labels = np.reshape(labels,(-1,1))\n",
        "\n",
        "numofSample = input.shape[0]\n",
        "weightedSum = forwardPass(input,weights)\n",
        "loss = -1 * np.multiply(labels,np.log10(sigmoid(weightedSum))) - np.multiply((1-labels),np.log10(1-sigmoid(weightedSum))) \n",
        "loss = np.sum(loss, axis = 0) / numofSample\n",
        "print(loss)\n",
        "print(weightedSum.shape)"
      ],
      "execution_count": null,
      "outputs": [
        {
          "output_type": "stream",
          "text": [
            "[3.54708777]\n",
            "(404, 1)\n"
          ],
          "name": "stdout"
        }
      ]
    },
    {
      "cell_type": "code",
      "metadata": {
        "id": "YU5vmYQohySt",
        "colab_type": "code",
        "colab": {}
      },
      "source": [
        "weights = np.random.rand(train_data.shape[1],1)\n",
        "reg = 100\n",
        "loss,grad = logisticLoss(train_data,weights,train_labels,reg)\n",
        "learningR = 0.001\n",
        "\n",
        "for a in range(0,100):\n",
        "  loss,grad = logisticLoss(train_data,weights,train_labels,100)\n",
        "  weights = weights - learningR * grad\n",
        "  print(loss)\n",
        "  if(loss < 0.05):\n",
        "    break \n",
        "\n",
        "print(weights)\n",
        "\n",
        "loss,grad = logisticLoss(test_data,weights,test_labels,reg)\n",
        "print(loss)"
      ],
      "execution_count": null,
      "outputs": []
    },
    {
      "cell_type": "code",
      "metadata": {
        "id": "98TBcZaVcuVW",
        "colab_type": "code",
        "colab": {
          "base_uri": "https://localhost:8080/",
          "height": 215
        },
        "outputId": "4ced9f38-25ce-4f8a-fe10-9c6b117c79ea"
      },
      "source": [
        "n = 2\n",
        "temp = np.random.rand(n,5)\n",
        "print(temp)\n",
        "weight = np.random.rand(5,1)\n",
        "label = np.random.rand(n,1)\n",
        "print(weight)\n",
        "temp1 = np.multiply((2-label),2)\n",
        "print(np.log10(temp1))\n",
        "\n",
        "print(np.sum(temp, axis = 1))  # axis 1 is horrizontal 0 is verticle \n",
        "print(np.sum(temp, axis = 0))\n"
      ],
      "execution_count": null,
      "outputs": [
        {
          "output_type": "stream",
          "text": [
            "[[0.00847316 0.38070781 0.47261958 0.21687832 0.24967178]\n",
            " [0.48124124 0.05383128 0.93135195 0.56750836 0.60923764]]\n",
            "[[0.95971125]\n",
            " [0.65706629]\n",
            " [0.79103503]\n",
            " [0.25832081]\n",
            " [0.49913952]]\n",
            "[[0.55616099]\n",
            " [0.56322029]]\n",
            "[1.32835065 2.64317047]\n",
            "[0.4897144  0.43453909 1.40397152 0.78438668 0.85890942]\n"
          ],
          "name": "stdout"
        }
      ]
    },
    {
      "cell_type": "code",
      "metadata": {
        "id": "7E2L9_FlnCVV",
        "colab_type": "code",
        "colab": {
          "base_uri": "https://localhost:8080/",
          "height": 71
        },
        "outputId": "7f9c0d18-f4cb-4638-b7ef-25d305635493"
      },
      "source": [
        "# make a logistic regression model \n",
        "# define weight 13 weight and 1 bias \n",
        "weights = np.random.rand(1,13)\n",
        "print(weights)"
      ],
      "execution_count": null,
      "outputs": [
        {
          "output_type": "stream",
          "text": [
            "[[0.00891829 0.45683097 0.13253301 0.8056888  0.1503516  0.72689704\n",
            "  0.05795405 0.6208843  0.17763425 0.88324649 0.86174013 0.77521051\n",
            "  0.89457426]]\n"
          ],
          "name": "stdout"
        }
      ]
    },
    {
      "cell_type": "code",
      "metadata": {
        "id": "X4fCjXV1mEk7",
        "colab_type": "code",
        "colab": {}
      },
      "source": [
        "plt.scatter(nonNormalized[:,6], train_labels[:])\n",
        "plt.show() "
      ],
      "execution_count": null,
      "outputs": []
    },
    {
      "cell_type": "code",
      "metadata": {
        "id": "9-L-6FXaqay6",
        "colab_type": "code",
        "colab": {}
      },
      "source": [
        ""
      ],
      "execution_count": null,
      "outputs": []
    }
  ]
}